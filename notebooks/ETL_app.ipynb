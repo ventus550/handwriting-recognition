{
 "cells": [
  {
   "attachments": {},
   "cell_type": "markdown",
   "metadata": {},
   "source": [
    "## Init"
   ]
  },
  {
   "cell_type": "code",
   "execution_count": 1,
   "metadata": {},
   "outputs": [
    {
     "name": "stdout",
     "output_type": "stream",
     "text": [
      "On branch master\n",
      "Your branch is ahead of 'origin/master' by 1 commit.\n",
      "  (use \"git push\" to publish your local commits)\n",
      "\n",
      "Changes not staged for commit:\n",
      "  (use \"git add <file>...\" to update what will be committed)\n",
      "  (use \"git restore <file>...\" to discard changes in working directory)\n",
      "  (commit or discard the untracked or modified content in submodules)\n",
      "\t\u001b[31mmodified:   ../TkCanvas\u001b[m (modified content, untracked content)\n",
      "\n",
      "Untracked files:\n",
      "  (use \"git add <file>...\" to include in what will be committed)\n",
      "\t\u001b[31mETL_app.ipynb\u001b[m\n",
      "\n",
      "no changes added to commit (use \"git add\" and/or \"git commit -a\")\n",
      "[Errno 2] No such file or directory: 'ShapeCorrection'\n",
      "/home/ventus/Documents/HandwritingRecognition/notebooks\n"
     ]
    }
   ],
   "source": [
    "repo = \"https://github.com/ventus550/HandwritingRecognition\"\n",
    "! ! (git status 2> /dev/null) && git clone {repo}\n",
    "%cd ShapeCorrection"
   ]
  },
  {
   "cell_type": "code",
   "execution_count": 2,
   "metadata": {},
   "outputs": [],
   "source": [
    "import sys\n",
    "sys.path.append(\"..\")"
   ]
  },
  {
   "cell_type": "code",
   "execution_count": 3,
   "metadata": {},
   "outputs": [
    {
     "name": "stderr",
     "output_type": "stream",
     "text": [
      "2023-05-17 02:32:04.128167: I tensorflow/core/platform/cpu_feature_guard.cc:193] This TensorFlow binary is optimized with oneAPI Deep Neural Network Library (oneDNN) to use the following CPU instructions in performance-critical operations:  AVX2 AVX512F AVX512_VNNI FMA\n",
      "To enable them in other operations, rebuild TensorFlow with the appropriate compiler flags.\n",
      "2023-05-17 02:32:04.265044: I tensorflow/core/util/port.cc:104] oneDNN custom operations are on. You may see slightly different numerical results due to floating-point round-off errors from different computation orders. To turn them off, set the environment variable `TF_ENABLE_ONEDNN_OPTS=0`.\n",
      "2023-05-17 02:32:04.267767: W tensorflow/compiler/xla/stream_executor/platform/default/dso_loader.cc:64] Could not load dynamic library 'libcudart.so.11.0'; dlerror: libcudart.so.11.0: cannot open shared object file: No such file or directory\n",
      "2023-05-17 02:32:04.267777: I tensorflow/compiler/xla/stream_executor/cuda/cudart_stub.cc:29] Ignore above cudart dlerror if you do not have a GPU set up on your machine.\n",
      "2023-05-17 02:32:04.929939: W tensorflow/compiler/xla/stream_executor/platform/default/dso_loader.cc:64] Could not load dynamic library 'libnvinfer.so.7'; dlerror: libnvinfer.so.7: cannot open shared object file: No such file or directory\n",
      "2023-05-17 02:32:04.929994: W tensorflow/compiler/xla/stream_executor/platform/default/dso_loader.cc:64] Could not load dynamic library 'libnvinfer_plugin.so.7'; dlerror: libnvinfer_plugin.so.7: cannot open shared object file: No such file or directory\n",
      "2023-05-17 02:32:04.929999: W tensorflow/compiler/tf2tensorrt/utils/py_utils.cc:38] TF-TRT Warning: Cannot dlopen some TensorRT libraries. If you would like to use Nvidia GPU with TensorRT, please make sure the missing libraries mentioned above are installed properly.\n"
     ]
    }
   ],
   "source": [
    "import matplotlib.pyplot as plt\n",
    "import numpy as np\n",
    "import tensorflow as tf\n",
    "from tqdm import tqdm\n",
    "from pathlib import Path\n",
    "from contextlib import suppress"
   ]
  },
  {
   "attachments": {},
   "cell_type": "markdown",
   "metadata": {},
   "source": [
    "## Configuration"
   ]
  },
  {
   "cell_type": "code",
   "execution_count": 4,
   "metadata": {},
   "outputs": [],
   "source": [
    "BASEDIR = Path().absolute().parent\n",
    "DESTDIR = BASEDIR / \"data\"\n",
    "SRCDATA = DESTDIR / \"app\"\n",
    "SUBDIRS = [\n",
    "    \"english/continous\",\n",
    "    \"english/separated\",\n",
    "    \"unknown/continous\"\n",
    "]"
   ]
  },
  {
   "attachments": {},
   "cell_type": "markdown",
   "metadata": {},
   "source": [
    "## Load raw data"
   ]
  },
  {
   "cell_type": "code",
   "execution_count": 5,
   "metadata": {},
   "outputs": [],
   "source": [
    "def read_directory(dir: Path, data_format=\"png\"):\n",
    "    images, labels = [], []\n",
    "    for path in dir.iterdir():\n",
    "        image = tf.image.decode_png(tf.io.read_file(str(path)), 1)\n",
    "        label = path.name.removesuffix(f\".{data_format}\")\n",
    "        images.append(image)\n",
    "        labels.append(label)\n",
    "\n",
    "    images, labels = zip(*sorted(zip(images, labels), key=lambda x: x[1]))\n",
    "    return np.array(images, \"float32\") / 255.0, np.array(labels)"
   ]
  },
  {
   "cell_type": "code",
   "execution_count": 6,
   "metadata": {},
   "outputs": [
    {
     "name": "stderr",
     "output_type": "stream",
     "text": [
      "2023-05-17 02:32:06.167761: W tensorflow/compiler/xla/stream_executor/platform/default/dso_loader.cc:64] Could not load dynamic library 'libcuda.so.1'; dlerror: libcuda.so.1: cannot open shared object file: No such file or directory\n",
      "2023-05-17 02:32:06.167786: W tensorflow/compiler/xla/stream_executor/cuda/cuda_driver.cc:265] failed call to cuInit: UNKNOWN ERROR (303)\n",
      "2023-05-17 02:32:06.167807: I tensorflow/compiler/xla/stream_executor/cuda/cuda_diagnostics.cc:156] kernel driver does not appear to be running on this host (fedora): /proc/driver/nvidia/version does not exist\n",
      "2023-05-17 02:32:06.168108: I tensorflow/core/platform/cpu_feature_guard.cc:193] This TensorFlow binary is optimized with oneAPI Deep Neural Network Library (oneDNN) to use the following CPU instructions in performance-critical operations:  AVX2 AVX512F AVX512_VNNI FMA\n",
      "To enable them in other operations, rebuild TensorFlow with the appropriate compiler flags.\n"
     ]
    }
   ],
   "source": [
    "X, Y = read_directory(SRCDATA / \"english\" / \"separated\")"
   ]
  },
  {
   "cell_type": "code",
   "execution_count": 7,
   "metadata": {},
   "outputs": [
    {
     "data": {
      "text/plain": [
       "{0.0,\n",
       " 0.003921569,\n",
       " 0.007843138,\n",
       " 0.011764706,\n",
       " 0.015686275,\n",
       " 0.019607844,\n",
       " 0.023529412,\n",
       " 0.02745098,\n",
       " 0.03137255,\n",
       " 0.03529412,\n",
       " 0.039215688,\n",
       " 0.043137256,\n",
       " 0.047058824,\n",
       " 0.050980393,\n",
       " 0.05490196,\n",
       " 0.05882353,\n",
       " 0.0627451,\n",
       " 0.06666667,\n",
       " 0.07058824,\n",
       " 0.07450981,\n",
       " 0.078431375,\n",
       " 0.08235294,\n",
       " 0.08627451,\n",
       " 0.09019608,\n",
       " 0.09411765,\n",
       " 0.09803922,\n",
       " 0.101960786,\n",
       " 0.105882354,\n",
       " 0.10980392,\n",
       " 0.11372549,\n",
       " 0.11764706,\n",
       " 0.12156863,\n",
       " 0.1254902,\n",
       " 0.12941177,\n",
       " 0.13333334,\n",
       " 0.13725491,\n",
       " 0.14117648,\n",
       " 0.14509805,\n",
       " 0.14901961,\n",
       " 0.15294118,\n",
       " 0.15686275,\n",
       " 0.16078432,\n",
       " 0.16470589,\n",
       " 0.16862746,\n",
       " 0.17254902,\n",
       " 0.1764706,\n",
       " 0.18039216,\n",
       " 0.18431373,\n",
       " 0.1882353,\n",
       " 0.19215687,\n",
       " 0.19607843,\n",
       " 0.2,\n",
       " 0.20392157,\n",
       " 0.20784314,\n",
       " 0.21176471,\n",
       " 0.21568628,\n",
       " 0.21960784,\n",
       " 0.22352941,\n",
       " 0.22745098,\n",
       " 0.23137255,\n",
       " 0.23529412,\n",
       " 0.23921569,\n",
       " 0.24313726,\n",
       " 0.24705882,\n",
       " 0.2509804,\n",
       " 0.25490198,\n",
       " 0.25882354,\n",
       " 0.2627451,\n",
       " 0.26666668,\n",
       " 0.27058825,\n",
       " 0.27450982,\n",
       " 0.2784314,\n",
       " 0.28235295,\n",
       " 0.28627452,\n",
       " 0.2901961,\n",
       " 0.29411766,\n",
       " 0.29803923,\n",
       " 0.3019608,\n",
       " 0.30588236,\n",
       " 0.30980393,\n",
       " 0.3137255,\n",
       " 0.31764707,\n",
       " 0.32156864,\n",
       " 0.3254902,\n",
       " 0.32941177,\n",
       " 0.33333334,\n",
       " 0.3372549,\n",
       " 0.34117648,\n",
       " 0.34509805,\n",
       " 0.34901962,\n",
       " 0.3529412,\n",
       " 0.35686275,\n",
       " 0.36078432,\n",
       " 0.3647059,\n",
       " 0.36862746,\n",
       " 0.37254903,\n",
       " 0.3764706,\n",
       " 0.38039216,\n",
       " 0.38431373,\n",
       " 0.3882353,\n",
       " 0.39215687,\n",
       " 0.39607844,\n",
       " 0.4,\n",
       " 0.40392157,\n",
       " 0.40784314,\n",
       " 0.4117647,\n",
       " 0.41568628,\n",
       " 0.41960785,\n",
       " 0.42352942,\n",
       " 0.42745098,\n",
       " 0.43137255,\n",
       " 0.43529412,\n",
       " 0.4392157,\n",
       " 0.44313726,\n",
       " 0.44705883,\n",
       " 0.4509804,\n",
       " 0.45490196,\n",
       " 0.45882353,\n",
       " 0.4627451,\n",
       " 0.46666667,\n",
       " 0.47058824,\n",
       " 0.4745098,\n",
       " 0.47843137,\n",
       " 0.48235294,\n",
       " 0.4862745,\n",
       " 0.49019608,\n",
       " 0.49411765,\n",
       " 0.49803922,\n",
       " 0.5019608,\n",
       " 0.5058824,\n",
       " 0.50980395,\n",
       " 0.5137255,\n",
       " 0.5176471,\n",
       " 0.52156866,\n",
       " 0.5254902,\n",
       " 0.5294118,\n",
       " 0.53333336,\n",
       " 0.5372549,\n",
       " 0.5411765,\n",
       " 0.54509807,\n",
       " 0.54901963,\n",
       " 0.5529412,\n",
       " 0.5568628,\n",
       " 0.56078434,\n",
       " 0.5647059,\n",
       " 0.5686275,\n",
       " 0.57254905,\n",
       " 0.5764706,\n",
       " 0.5803922,\n",
       " 0.58431375,\n",
       " 0.5882353,\n",
       " 0.5921569,\n",
       " 0.59607846,\n",
       " 0.6,\n",
       " 0.6039216,\n",
       " 0.60784316,\n",
       " 0.6117647,\n",
       " 0.6156863,\n",
       " 0.61960787,\n",
       " 0.62352943,\n",
       " 0.627451,\n",
       " 0.6313726,\n",
       " 0.63529414,\n",
       " 0.6392157,\n",
       " 0.6431373,\n",
       " 0.64705884,\n",
       " 0.6509804,\n",
       " 0.654902,\n",
       " 0.65882355,\n",
       " 0.6627451,\n",
       " 0.6666667,\n",
       " 0.67058825,\n",
       " 0.6745098,\n",
       " 0.6784314,\n",
       " 0.68235296,\n",
       " 0.6862745,\n",
       " 0.6901961,\n",
       " 0.69411767,\n",
       " 0.69803923,\n",
       " 0.7019608,\n",
       " 0.7058824,\n",
       " 0.70980394,\n",
       " 0.7137255,\n",
       " 0.7176471,\n",
       " 0.72156864,\n",
       " 0.7254902,\n",
       " 0.7294118,\n",
       " 0.73333335,\n",
       " 0.7372549,\n",
       " 0.7411765,\n",
       " 0.74509805,\n",
       " 0.7490196,\n",
       " 0.7529412,\n",
       " 0.75686276,\n",
       " 0.7607843,\n",
       " 0.7647059,\n",
       " 0.76862746,\n",
       " 0.77254903,\n",
       " 0.7764706,\n",
       " 0.78039217,\n",
       " 0.78431374,\n",
       " 0.7882353,\n",
       " 0.7921569,\n",
       " 0.79607844,\n",
       " 0.8,\n",
       " 0.8039216,\n",
       " 0.80784315,\n",
       " 0.8117647,\n",
       " 0.8156863,\n",
       " 0.81960785,\n",
       " 0.8235294,\n",
       " 0.827451,\n",
       " 0.83137256,\n",
       " 0.8352941,\n",
       " 0.8392157,\n",
       " 0.84313726,\n",
       " 0.84705883,\n",
       " 0.8509804,\n",
       " 0.85490197,\n",
       " 0.85882354,\n",
       " 0.8627451,\n",
       " 0.8666667,\n",
       " 0.87058824,\n",
       " 0.8745098,\n",
       " 0.8784314,\n",
       " 0.88235295,\n",
       " 0.8862745,\n",
       " 0.8901961,\n",
       " 0.89411765,\n",
       " 0.8980392,\n",
       " 0.9019608,\n",
       " 0.90588236,\n",
       " 0.9098039,\n",
       " 0.9137255,\n",
       " 0.91764706,\n",
       " 0.92156863,\n",
       " 0.9254902,\n",
       " 0.92941177,\n",
       " 0.93333334,\n",
       " 0.9372549,\n",
       " 0.9411765,\n",
       " 0.94509804,\n",
       " 0.9490196,\n",
       " 0.9529412,\n",
       " 0.95686275,\n",
       " 0.9607843,\n",
       " 0.9647059,\n",
       " 0.96862745,\n",
       " 0.972549,\n",
       " 0.9764706,\n",
       " 0.98039216,\n",
       " 0.9843137,\n",
       " 0.9882353,\n",
       " 0.99215686,\n",
       " 1.0}"
      ]
     },
     "execution_count": 7,
     "metadata": {},
     "output_type": "execute_result"
    }
   ],
   "source": [
    "set(X.ravel())"
   ]
  },
  {
   "cell_type": "code",
   "execution_count": 8,
   "metadata": {},
   "outputs": [
    {
     "data": {
      "text/plain": [
       "(50, 32, 128, 1)"
      ]
     },
     "execution_count": 8,
     "metadata": {},
     "output_type": "execute_result"
    }
   ],
   "source": [
    "X.shape"
   ]
  },
  {
   "cell_type": "code",
   "execution_count": 9,
   "metadata": {},
   "outputs": [
    {
     "data": {
      "text/plain": [
       "array(['accident', 'advocate', 'ancestor', 'ball', 'cat', 'ceremony',\n",
       "       'club', 'conversation', 'convince', 'cord', 'cousin', 'debate',\n",
       "       'deserve', 'domination', 'driver', 'evoke', 'extension', 'false',\n",
       "       'fare', 'favourite', 'fear', 'food', 'force', 'glare', 'lease',\n",
       "       'lesson', 'location', 'lock', 'mainstream', 'matrix', 'meadow',\n",
       "       'money', 'murder', 'nonremittal', 'offer', 'office', 'overall',\n",
       "       'overcharge', 'palm', 'peanut', 'premium', 'retain', 'rhetoric',\n",
       "       'sailor', 'satisfied', 'security', 'see', 'sticky', 'understand',\n",
       "       'volcano'], dtype='<U12')"
      ]
     },
     "execution_count": 9,
     "metadata": {},
     "output_type": "execute_result"
    }
   ],
   "source": [
    "Y"
   ]
  },
  {
   "attachments": {},
   "cell_type": "markdown",
   "metadata": {},
   "source": [
    "## Save data"
   ]
  },
  {
   "cell_type": "code",
   "execution_count": 10,
   "metadata": {},
   "outputs": [],
   "source": [
    "def save_dataset(source_dir: Path):\n",
    "\tX, Y = read_directory(source_dir)\n",
    "\tdataset_src = str(source_dir.relative_to(DESTDIR))\n",
    "\tdataset_name = \"_\".join(dataset_src.split(\"/\"))\n",
    "\tnp.savez(DESTDIR / dataset_name, images=X, labels=Y)"
   ]
  },
  {
   "cell_type": "code",
   "execution_count": 11,
   "metadata": {},
   "outputs": [
    {
     "name": "stdout",
     "output_type": "stream",
     "text": [
      "CPU times: user 29.7 ms, sys: 4.5 ms, total: 34.2 ms\n",
      "Wall time: 44.7 ms\n"
     ]
    }
   ],
   "source": [
    "%%time\n",
    "for sub in SUBDIRS:\n",
    "\ttry:\n",
    "\t\tsave_dataset(SRCDATA / sub)\n",
    "\texcept e:\n",
    "\t\tprint(f\"Error encoutered in {sub}\")\n",
    "\t\tprint(e)"
   ]
  },
  {
   "cell_type": "code",
   "execution_count": null,
   "metadata": {},
   "outputs": [],
   "source": []
  }
 ],
 "metadata": {
  "kernelspec": {
   "display_name": "Python 3",
   "language": "python",
   "name": "python3"
  },
  "language_info": {
   "codemirror_mode": {
    "name": "ipython",
    "version": 3
   },
   "file_extension": ".py",
   "mimetype": "text/x-python",
   "name": "python",
   "nbconvert_exporter": "python",
   "pygments_lexer": "ipython3",
   "version": "3.10.10"
  },
  "orig_nbformat": 4
 },
 "nbformat": 4,
 "nbformat_minor": 2
}
